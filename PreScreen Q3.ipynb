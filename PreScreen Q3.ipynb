{
 "cells": [
  {
   "cell_type": "markdown",
   "id": "11d64652",
   "metadata": {},
   "source": [
    "# a. What is the probability of the word “data” occurring in each line ?\n"
   ]
  },
  {
   "cell_type": "code",
   "execution_count": 199,
   "id": "dc71532f",
   "metadata": {},
   "outputs": [
    {
     "name": "stdout",
     "output_type": "stream",
     "text": [
      "Total Number of lines: 22\n",
      "Probability of word 'data' occurring is 0.05329153605015674\n",
      "Probability of word 'data' occurring in each line is 0.0024223425477343974\n"
     ]
    }
   ],
   "source": [
    "from collections import Counter\n",
    "\n",
    "with open(r\"PreScreenQ3.txt\", 'r') as fp:\n",
    "    \n",
    "    lines = sum(1 for line in fp)\n",
    "    print('Total Number of lines:', lines)\n",
    "\n",
    "text = open(\"PreScreenQ3.txt\").read().lower()\n",
    "def word_freq(string): \n",
    "    wordfreq = Counter(text.split())\n",
    "    return (dict(wordfreq))    # return a tuple of counted words\n",
    "\n",
    "words = word_freq(text) # count and get dicts with counts\n",
    "sumWords = sum(words.values())       # sum total words\n",
    "\n",
    "print(\"Probability of word '{}' occurring is {}\".format('data',words['data']/sumWords))\n",
    "print(\"Probability of word '{}' occurring in each line is {}\".format('data',(words['data']/sumWords)/lines))"
   ]
  },
  {
   "cell_type": "markdown",
   "id": "c60bd98f",
   "metadata": {},
   "source": [
    "# b. What is the distribution of distinct word counts across all the lines ? \n"
   ]
  },
  {
   "cell_type": "code",
   "execution_count": 78,
   "id": "46b29cc7",
   "metadata": {},
   "outputs": [
    {
     "name": "stdout",
     "output_type": "stream",
     "text": [
      "{'as': 2, 'a': 10, 'term,': 1, 'data': 17, 'analytics': 7, 'predominantly': 1, 'refers': 1, 'to': 11, 'an': 1, 'assortment': 1, 'of': 10, 'applications,': 1, 'from': 2, 'basic': 1, 'business': 4, 'intelligence': 1, '(bi),': 1, 'reporting': 1, 'and': 9, 'online': 1, 'analytical': 1, 'processing': 1, '(olap)': 1, 'various': 1, 'forms': 1, 'advanced': 2, 'analytics.': 1, 'in': 6, 'that': 4, 'sense,': 1, \"it's\": 1, 'similar': 1, 'nature': 1, 'analytics,': 2, 'another': 1, 'umbrella': 1, 'term': 2, 'for': 2, 'approaches': 1, 'analyzing': 1, '--': 4, 'with': 3, 'the': 11, 'difference': 1, 'latter': 1, 'is': 4, 'oriented': 1, 'uses,': 1, 'while': 2, 'has': 2, 'broader': 1, 'focus.': 1, 'expansive': 1, 'view': 1, \"isn't\": 1, 'universal,': 1, 'though:': 1, 'some': 1, 'cases,': 1, 'people': 1, 'use': 1, 'specifically': 1, 'mean': 1, 'treating': 1, 'bi': 1, 'separate': 1, 'category.': 1, 'initiatives': 1, 'can': 5, 'help': 1, 'businesses': 1, 'increase': 1, 'revenues,': 1, 'improve': 1, 'operational': 1, 'efficiency,': 1, 'optimize': 1, 'marketing': 1, 'campaigns': 1, 'customer': 1, 'service': 1, 'efforts,': 1, 'respond': 1, 'more': 2, 'quickly': 1, 'emerging': 1, 'market': 1, 'trends': 1, 'gain': 1, 'competitive': 1, 'edge': 1, 'over': 1, 'rivals': 1, 'all': 1, 'ultimate': 1, 'goal': 1, 'boosting': 1, 'performance.': 1, 'depending': 1, 'on': 2, 'particular': 1, 'application,': 1, \"that's\": 1, 'analyzed': 1, 'consist': 1, 'either': 1, 'historical': 1, 'records': 1, 'or': 4, 'new': 1, 'information': 1, 'been': 1, 'processed': 1, 'real-time': 1, 'uses.': 1, 'addition,': 1, 'it': 2, 'come': 1, 'mix': 1, 'internal': 1, 'systems': 1, 'external': 1, 'sources.': 1, 'at': 1, 'high': 1, 'level,': 1, 'methodologies': 1, 'include': 1, 'exploratory': 2, 'analysis': 4, '(eda),': 1, 'which': 2, 'aims': 1, 'find': 1, 'patterns': 1, 'relationships': 1, 'data,': 1, 'confirmatory': 1, '(cda),': 1, 'applies': 1, 'statistical': 1, 'techniques': 1, 'determine': 1, 'whether': 1, 'hypotheses': 1, 'about': 1, 'set': 1, 'are': 1, 'true': 1, 'false.': 1, 'eda': 1, 'often': 1, 'compared': 2, 'detective': 1, 'work,': 1, 'cda': 1, 'akin': 1, 'work': 1, 'judge': 1, 'jury': 1, 'during': 1, 'court': 1, 'trial': 1, 'distinction': 1, 'first': 1, 'drawn': 1, 'by': 1, 'statistician': 1, 'john': 1, 'w.': 1, 'tukey': 1, 'his': 1, '1977': 1, 'book': 1, 'analysis.': 2, 'also': 1, 'be': 2, 'separated': 1, 'into': 1, 'quantitative': 1, 'qualitative': 2, 'former': 1, 'involves': 1, 'numerical': 1, 'quantifiable': 1, 'variables': 1, 'measured': 1, 'statistically.': 1, 'approach': 1, 'interpretive': 1, 'focuses': 1, 'understanding': 1, 'content': 1, 'non-numerical': 1, 'like': 1, 'text,': 1, 'images,': 1, 'audio': 1, 'video,': 1, 'including': 1, 'common': 1, 'phrases,': 1, 'themes': 1, 'points': 1, 'view.': 1}\n"
     ]
    },
    {
     "data": {
      "image/png": "[encoded data removed]",
      "text/plain": [
       "<Figure size 1440x720 with 1 Axes>"
      ]
     },
     "metadata": {},
     "output_type": "display_data"
    }
   ],
   "source": [
    "from collections import Counter\n",
    "import matplotlib.pyplot as plt\n",
    "import pandas as pd\n",
    "\n",
    "file = open(\"PreScreenQ3.txt\").read().lower()\n",
    "cnt = Counter()\n",
    "\n",
    "for text in file.split():\n",
    "    cnt[text] += 1\n",
    "\n",
    "word_freq = pd.DataFrame(cnt.most_common(20),\n",
    "                             columns=['words', 'count'])\n",
    "print(words)\n",
    "\n",
    "fig, ax = plt.subplots(figsize=(20, 10))\n",
    "\n",
    "# Plot horizontal bar graph\n",
    "word_freq.sort_values(by='count').plot.barh(x='words',\n",
    "                      y='count',\n",
    "                      ax=ax,\n",
    "                      color=\"brown\")\n",
    "ax.set_title(\"Common Words Found\")\n",
    "plt.show()\n"
   ]
  },
  {
   "cell_type": "markdown",
   "id": "4439a4c3",
   "metadata": {},
   "source": [
    "# c. What is the probability of the word “analytics” occurring after the word “data” ? \n"
   ]
  },
  {
   "cell_type": "code",
   "execution_count": 196,
   "id": "ed7a89ed",
   "metadata": {},
   "outputs": [
    {
     "name": "stdout",
     "output_type": "stream",
     "text": [
      "{'data analytics': 6, 'data analysis': 5, 'as a': 2, 'advanced analytics': 2, 'to business': 2, 'data with': 2, 'with the': 2, 'exploratory data': 2, 'numerical data': 2}\n",
      "\n",
      "Occurrence of word data is 17\n"
     ]
    }
   ],
   "source": [
    "from collections import Counter\n",
    "import re\n",
    "\n",
    "sentence = open(\"PreScreenQ3.txt\").read().lower()\n",
    "words = re.findall(r'\\w+', sentence)\n",
    "two_words = [' '.join(ws) for ws in zip(words, words[1:])]\n",
    "wordscount = {w:f for w, f in Counter(two_words).most_common() if f > 1}\n",
    "print(wordscount)\n",
    "\n",
    "def word_freq(string): \n",
    "    wordfreq = Counter(text.split())\n",
    "    return (dict(wordfreq))    # return a tuple of counted words\n",
    "\n",
    "words = word_freq(text) # count and get dicts with counts\n",
    "sumWords = sum(words.values())       # sum total words\n",
    "\n",
    "print(\"\\nOccurrence of word data is\",words['data'])\n"
   ]
  },
  {
   "cell_type": "code",
   "execution_count": 198,
   "id": "721448a5",
   "metadata": {},
   "outputs": [
    {
     "name": "stdout",
     "output_type": "stream",
     "text": [
      "Probability of word 'data' occurring is 0.05329153605015674\n",
      "Probability of word 'analytics' occurring after the word data is 0.35294117647058826\n"
     ]
    }
   ],
   "source": [
    "from collections import Counter\n",
    "\n",
    "text = open(\"PreScreenQ3.txt\").read().lower()\n",
    "\n",
    "def word_freq(string): \n",
    "    wordfreq = Counter(text.split())\n",
    "    return (dict(wordfreq))    # return a tuple of counted words\n",
    "\n",
    "\n",
    "words = word_freq(text) # count and get dicts with counts\n",
    "sumWords = sum(words.values())       # sum total words\n",
    "\n",
    "                    \n",
    "print(\"Probability of word '{}' occurring is {}\".format('data',words['data']/sumWords))\n",
    "print(\"Probability of word '{}' occurring after the word data is {}\".format('analytics',6/17))\n",
    "\n",
    "\n"
   ]
  }
 ],
 "metadata": {
  "kernelspec": {
   "display_name": "Python 3",
   "language": "python",
   "name": "python3"
  },
  "language_info": {
   "codemirror_mode": {
    "name": "ipython",
    "version": 3
   },
   "file_extension": ".py",
   "mimetype": "text/x-python",
   "name": "python",
   "nbconvert_exporter": "python",
   "pygments_lexer": "ipython3",
   "version": "3.8.8"
  }
 },
 "nbformat": 4,
 "nbformat_minor": 5
}
